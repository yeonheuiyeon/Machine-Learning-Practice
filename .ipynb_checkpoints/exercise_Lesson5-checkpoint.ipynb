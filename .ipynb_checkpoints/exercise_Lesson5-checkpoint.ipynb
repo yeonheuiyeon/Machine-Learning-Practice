{
 "cells": [
  {
   "cell_type": "markdown",
   "metadata": {},
   "source": [
    "> ## 중간고사 보느라 수고 많으셨습니다. 지금까지 배운 부분들을 한 번 정리해보면 좋을 것 같아요!\n",
    "> ## 이번 lesson에서 gradient descent가 무엇인지 배웠습니다. 어떤 방식으로 최적점을 찾는지도요. \n",
    "> ## 지금까지는 code를 사용하는 방법을 배웠다면, 이부분들을 정리해보면 그 밑 단에서 fastai, pyTorch가 어떤 식으로 계산하는지를 이해할 떄 도움이 많이 될 것 같아요"
   ]
  },
  {
   "cell_type": "markdown",
   "metadata": {
    "colab_type": "text",
    "id": "view-in-github"
   },
   "source": [
    "<a href=\"https://colab.research.google.com/github/yeonheuiyeon/Machine-Learning-Practice/blob/master/exercise_Lesson5.ipynb\" target=\"_parent\"><img src=\"https://colab.research.google.com/assets/colab-badge.svg\" alt=\"Open In Colab\"/></a>"
   ]
  },
  {
   "cell_type": "markdown",
   "metadata": {
    "colab_type": "text",
    "id": "p8HDJaOim5Iu"
   },
   "source": [
    "- Fine tuning ( 미세조정)\n",
    "\n",
    "1000개의 열이 있는 가중치 행렬을 ResNet34는 가지고 있다.\n",
    "1000개의 이미지범주중 어느 것이 이 사진인지 알아내기 위해서다. 따라서 목표 벡터 길이가 1000이기 때문에 1000개가 필요한것이다. 1000가지중 한가지일 확률을 구한다.\n",
    "\n",
    "가중치 매트릭스가 전이학습을 할 때 우리에게 안 좋은점 몇가지가 있다.\n",
    "\n",
    "1) 우리는 천개의 카테고리를 가지고 있지 않다.\n",
    "2) 이미지넷과 나의 카테고리가 다르다.\n",
    "\n",
    "따라서 우리는 그것을 버리고 대신 ReLU에 2개의 새로운 가중치 메트릭스를 넣는다.\n",
    "첫 번째 것은 일정한 기본 값이 있지만 두 번째 것은 필요한 만큼 커야한다.\n",
    "따라서 learner에 전달된 데이터셋이 얼많아 많은 activation이 필요한지 알 수 있다. 분류를 하고 있다면 얼마나 많은 클래스를 가지고 있는지 회귀분석을 하고 있다면 예측하려는 숫자가 얼마나 되는지 알기.\n",
    "\n",
    "그 후 트레인을 진행한다. 가중치 행렬들이 무작위 숫자로 가득 차있다. \n",
    "첫 번째 layer는 가중치 매트릭스의 한 부분으로 대각선 가장자리 찾기가 유용했다.\n",
    "두 번째 layer는 필터중 하나가 왼쪽 상단의 모서리 찾기 유용했다.\n",
    "세 번째는 반복적인 패턴을 찾는데 능숙, 다른 하나는 둥근 오렌지색 물건을 찾는데 능숙, 다른하나는 털이나 꽃무늬 같은 것을 찾는데 유용했다.\n",
    "layer가 올라갈수록 더 정교해지고 구체적이 된다.\n",
    "\n",
    "- Freezing layers\n",
    "가중치에 대한 계싼이 다른 layer로 전달 되지 않게 하게 하여 계산을 보다 빠르게 한다. 무작위로 생성된 레이어를 제외한 모든 층을 얼린다.\n",
    "\n",
    "- Affine Function\n",
    "매트릭스곱과 비슷한 것으로 합친 선형함수들이지만 일반적인 용어로 affine 함수라고 한다. 이것은 메트릭스 곱으로 대신할 수 있다. 딥러닝에서 행렬곱은 가장 흔한 affine함수이다.\n",
    "\n",
    "\n",
    "- matrix factorization\n",
    "메트릭스 팩토라이제이션\n",
    "임배딩 매트릭스의 길이로 factors의 개수가 적어진다. 임배딩 사이즈라고 부르지 않는 이유는 collaborative 필터링이라는 단어를 사용하지 않는다. 따라서 표준적인 방법의 collaborative 필터링을 메트릭스 펙토라이제이션이라 부른다.\n",
    "\n",
    "\n",
    "\n",
    "- collab_learner function\n",
    "데이터 bunch와 같은 역할을 한다. 하지만 평범한  learner은 구조에서 특정 부분을 취한다. 이 경우는 기본적으로 다층 신경망을 사용할 것인지 고전적인 collaborative 필터링을 사용할 것인지 하는 한가지 방법밖에 없다.  EmbeddingDotBias 모델을 만들고, 우리의 데이터와 모델을 가진 learner을 돌려보낸다.\n",
    "\n",
    "- Regularization\n",
    "이 때 사용하는 방식이 regularization이다. Regularization은 ‘정규화’라는 말로 번역이 되기도 하지만, ‘일반화’ 라고 번역을 하는 것이 더 적합한 것 같다. 이 용어는 기계 학습뿐만 아니라 통계에서도 흔히 사용이 되는 용어이다. Regularization은 일종의 penalty 조건에 해당이 된다. \n",
    "통상적으로 기계학습이나 통계적 추론을 할 때 cost function 혹은 error function이 작아지는 쪽으로 진행을 하게 된다. 단순하게 작아지는 쪽으로만 진행을 하다 보면, 특정 가중치 값들이 커지면서 오히려 결과를 나쁘게 하는 경우도 있다. \n",
    "“weight decay”에 의해 특정 가중치가 비이상적으로 커지고 그것이 학습의 효과에 큰 영향을 끼치는 것을 방지할 수 있다.\n"
   ]
  },
  {
   "cell_type": "markdown",
   "metadata": {
    "colab_type": "text",
    "id": "KDFJDsBeoHxQ"
   },
   "source": [
    "# 1. MNIST SGD\n",
    "합성데이터가 아닌 실제 데이터를 활용해서 진행. 손으로 그린 숫자 MNIST 사용하기 우리는 fully connected net을 활용한다. 하지만 convolutional net은 아니다. Python pickle 파일로 제공한다. 파이썬이 열 수 있고 바로 numpy 어레이 사용가능하다.\n"
   ]
  },
  {
   "cell_type": "code",
   "execution_count": 1,
   "metadata": {
    "colab": {
     "base_uri": "https://localhost:8080/",
     "height": 131
    },
    "colab_type": "code",
    "id": "Fz2k24xaBVln",
    "outputId": "3d742469-8987-4111-eda3-e5b732009125"
   },
   "outputs": [
    {
     "name": "stdout",
     "output_type": "stream",
     "text": [
      "Go to this URL in a browser: https://accounts.google.com/o/oauth2/auth?client_id=947318989803-6bn6qk8qdgf4n4g3pfee6491hc0brc4i.apps.googleusercontent.com&redirect_uri=urn%3aietf%3awg%3aoauth%3a2.0%3aoob&response_type=code&scope=email%20https%3a%2f%2fwww.googleapis.com%2fauth%2fdocs.test%20https%3a%2f%2fwww.googleapis.com%2fauth%2fdrive%20https%3a%2f%2fwww.googleapis.com%2fauth%2fdrive.photos.readonly%20https%3a%2f%2fwww.googleapis.com%2fauth%2fpeopleapi.readonly\n",
      "\n",
      "Enter your authorization code:\n",
      "··········\n",
      "Mounted at /content/gdrive\n"
     ]
    }
   ],
   "source": [
    "from google.colab import drive\n",
    "drive.mount('/content/gdrive', force_remount=True)"
   ]
  },
  {
   "cell_type": "code",
   "execution_count": 0,
   "metadata": {
    "colab": {},
    "colab_type": "code",
    "id": "DAzY2sxy_6Ga"
   },
   "outputs": [],
   "source": [
    "%matplotlib inline\n",
    "from fastai.basics import *"
   ]
  },
  {
   "cell_type": "code",
   "execution_count": 0,
   "metadata": {
    "colab": {},
    "colab_type": "code",
    "id": "tlMAH0lXASMa"
   },
   "outputs": [],
   "source": [
    "path =Path('/content/gdrive/My Drive/Colab Notebooks/mnist')"
   ]
  },
  {
   "cell_type": "code",
   "execution_count": 4,
   "metadata": {
    "colab": {
     "base_uri": "https://localhost:8080/",
     "height": 36
    },
    "colab_type": "code",
    "id": "NkeICXkkAX0J",
    "outputId": "ebafe828-a5e2-49f9-a26d-24e75d29c2c4"
   },
   "outputs": [
    {
     "data": {
      "text/plain": [
       "[PosixPath('/content/gdrive/My Drive/Colab Notebooks/mnist/mnist.pkl.gz')]"
      ]
     },
     "execution_count": 4,
     "metadata": {
      "tags": []
     },
     "output_type": "execute_result"
    }
   ],
   "source": [
    "path.ls()"
   ]
  },
  {
   "cell_type": "code",
   "execution_count": 0,
   "metadata": {
    "colab": {},
    "colab_type": "code",
    "id": "25MsOADBAaCR"
   },
   "outputs": [],
   "source": [
    "with gzip.open(path/'mnist.pkl.gz', 'rb') as f:\n",
    "    ((x_train, y_train), (x_valid, y_valid), _) = pickle.load(f, encoding='latin-1')"
   ]
  },
  {
   "cell_type": "code",
   "execution_count": 6,
   "metadata": {
    "colab": {
     "base_uri": "https://localhost:8080/",
     "height": 284
    },
    "colab_type": "code",
    "id": "SNOJtdlXGel2",
    "outputId": "82995012-c71a-4a81-e9af-71789f69c761"
   },
   "outputs": [
    {
     "data": {
      "text/plain": [
       "(50000, 784)"
      ]
     },
     "execution_count": 6,
     "metadata": {
      "tags": []
     },
     "output_type": "execute_result"
    },
    {
     "data": {
      "image/png": "[encoded data removed]",
      "text/plain": [
       "<Figure size 432x288 with 1 Axes>"
      ]
     },
     "metadata": {
      "needs_background": "light",
      "tags": []
     },
     "output_type": "display_data"
    }
   ],
   "source": [
    "plt.imshow(x_train[0].reshape((28,28)), cmap=\"gray\")\n",
    "x_train.shape"
   ]
  },
  {
   "cell_type": "markdown",
   "metadata": {
    "colab_type": "text",
    "id": "htMQsLY5o0u6"
   },
   "source": [
    "* 이렇게 했을 때 train,vaild, test가 아니ㅟ어 진다. 이것은 50000개의 행과 784개의 열로 되어있는데 784개의 열은 28*28의 픽셀 사진들이다.\n",
    "그 중하나를 가로 세로 28 픽셀의 그림으로 바꿔서 plot 하면 5라는 것을 알수 있다.\n"
   ]
  },
  {
   "cell_type": "code",
   "execution_count": 7,
   "metadata": {
    "colab": {
     "base_uri": "https://localhost:8080/",
     "height": 36
    },
    "colab_type": "code",
    "id": "3Oio_Dy9Gks1",
    "outputId": "dd03ca7c-57c7-43aa-e885-1691864273a8"
   },
   "outputs": [
    {
     "data": {
      "text/plain": [
       "(torch.Size([50000, 784]), tensor(0), tensor(9))"
      ]
     },
     "execution_count": 7,
     "metadata": {
      "tags": []
     },
     "output_type": "execute_result"
    }
   ],
   "source": [
    "x_train,y_train,x_valid,y_valid = map(torch.tensor, (x_train,y_train,x_valid,y_valid))\n",
    "n,c = x_train.shape\n",
    "x_train.shape, y_train.min(), y_train.max()"
   ]
  },
  {
   "cell_type": "markdown",
   "metadata": {
    "colab_type": "text",
    "id": "ckGNiAHQo7-p"
   },
   "source": [
    "* (torch.Size([50000, 784]), tensor(0), tensor(9))-> 사이즈 지정과 예측의 최대최소값\n",
    "numpy 어레이기 때문에 tensor로 바꿔주는 과정(torch.tensor)\n"
   ]
  },
  {
   "cell_type": "code",
   "execution_count": 0,
   "metadata": {
    "colab": {},
    "colab_type": "code",
    "id": "NrKEOxMJG5oQ"
   },
   "outputs": [],
   "source": [
    "bs=64\n",
    "train_ds = TensorDataset(x_train, y_train)\n",
    "valid_ds = TensorDataset(x_valid, y_valid)\n",
    "data = DataBunch.create(train_ds, valid_ds, bs=bs)"
   ]
  },
  {
   "cell_type": "code",
   "execution_count": 9,
   "metadata": {
    "colab": {
     "base_uri": "https://localhost:8080/",
     "height": 36
    },
    "colab_type": "code",
    "id": "SihzcH3hIc9L",
    "outputId": "6619985f-fe7e-44ed-a4c8-4c736f305832"
   },
   "outputs": [
    {
     "data": {
      "text/plain": [
       "(torch.Size([64, 784]), torch.Size([64]))"
      ]
     },
     "execution_count": 9,
     "metadata": {
      "tags": []
     },
     "output_type": "execute_result"
    }
   ],
   "source": [
    "x,y = next(iter(data.train_dl))\n",
    "x.shape,y.shape"
   ]
  },
  {
   "cell_type": "markdown",
   "metadata": {
    "colab_type": "text",
    "id": "_A5iJrSGpAlJ"
   },
   "source": [
    "* 미니 배치를 진행해야한다. 데이터의 집합이 너무 크기 때문에 두 개의 텐서를 통해 데이터 집합을 만든다. 그리고 그것을 인덱싱 하여 x값과 y값을 되돌려 받는다.\n"
   ]
  },
  {
   "cell_type": "code",
   "execution_count": 0,
   "metadata": {
    "colab": {},
    "colab_type": "code",
    "id": "YzC5AMTiIfKv"
   },
   "outputs": [],
   "source": [
    "class Mnist_Logistic(nn.Module):\n",
    "    def __init__(self):\n",
    "        super().__init__()\n",
    "        self.lin = nn.Linear(784, 10, bias=True)\n",
    "\n",
    "    def forward(self, xb): return self.lin(xb)"
   ]
  },
  {
   "cell_type": "code",
   "execution_count": 0,
   "metadata": {
    "colab": {},
    "colab_type": "code",
    "id": "x6DIugXIIh7e"
   },
   "outputs": [],
   "source": [
    "model = Mnist_Logistic().cuda()"
   ]
  },
  {
   "cell_type": "code",
   "execution_count": 12,
   "metadata": {
    "colab": {
     "base_uri": "https://localhost:8080/",
     "height": 73
    },
    "colab_type": "code",
    "id": "u7tp9vDbIjo0",
    "outputId": "4f9390c4-d7c1-4b1f-8f8c-a56ad05c5f6f"
   },
   "outputs": [
    {
     "data": {
      "text/plain": [
       "Mnist_Logistic(\n",
       "  (lin): Linear(in_features=784, out_features=10, bias=True)\n",
       ")"
      ]
     },
     "execution_count": 12,
     "metadata": {
      "tags": []
     },
     "output_type": "execute_result"
    }
   ],
   "source": [
    "model"
   ]
  },
  {
   "cell_type": "code",
   "execution_count": 13,
   "metadata": {
    "colab": {
     "base_uri": "https://localhost:8080/",
     "height": 36
    },
    "colab_type": "code",
    "id": "cLQmjznZMHnW",
    "outputId": "ebbf36de-66b0-4d57-9af3-adf02f997c46"
   },
   "outputs": [
    {
     "data": {
      "text/plain": [
       "Linear(in_features=784, out_features=10, bias=True)"
      ]
     },
     "execution_count": 13,
     "metadata": {
      "tags": []
     },
     "output_type": "execute_result"
    }
   ],
   "source": [
    "model.lin"
   ]
  },
  {
   "cell_type": "code",
   "execution_count": 14,
   "metadata": {
    "colab": {
     "base_uri": "https://localhost:8080/",
     "height": 36
    },
    "colab_type": "code",
    "id": "XLo-dJPaMH1r",
    "outputId": "21caca4e-433f-4df9-ffa8-42e040ead7d8"
   },
   "outputs": [
    {
     "data": {
      "text/plain": [
       "torch.Size([64, 10])"
      ]
     },
     "execution_count": 14,
     "metadata": {
      "tags": []
     },
     "output_type": "execute_result"
    }
   ],
   "source": [
    "model(x).shape"
   ]
  },
  {
   "cell_type": "code",
   "execution_count": 15,
   "metadata": {
    "colab": {
     "base_uri": "https://localhost:8080/",
     "height": 36
    },
    "colab_type": "code",
    "id": "_roje8QlMIAH",
    "outputId": "3c2f8a40-f687-4208-c548-43ad3b5aedb5"
   },
   "outputs": [
    {
     "data": {
      "text/plain": [
       "[torch.Size([10, 784]), torch.Size([10])]"
      ]
     },
     "execution_count": 15,
     "metadata": {
      "tags": []
     },
     "output_type": "execute_result"
    }
   ],
   "source": [
    "[p.shape for p in model.parameters()]"
   ]
  },
  {
   "cell_type": "code",
   "execution_count": 0,
   "metadata": {
    "colab": {},
    "colab_type": "code",
    "id": "pGMYnnQ9MIKO"
   },
   "outputs": [],
   "source": [
    "lr=2e-2"
   ]
  },
  {
   "cell_type": "code",
   "execution_count": 0,
   "metadata": {
    "colab": {},
    "colab_type": "code",
    "id": "5VXuSzU5MOYA"
   },
   "outputs": [],
   "source": [
    "loss_func = nn.CrossEntropyLoss()"
   ]
  },
  {
   "cell_type": "markdown",
   "metadata": {
    "colab_type": "text",
    "id": "AKdHzf_1veLd"
   },
   "source": [
    "-MNIST neural network\n",
    "두 개의 liner층을 가진다. 첫 번째는 50사이즈의 가중치 메트릭스와 두 번째는 input의 사이즈가 50이여서 매치 된다. \n"
   ]
  },
  {
   "cell_type": "code",
   "execution_count": 0,
   "metadata": {
    "colab": {},
    "colab_type": "code",
    "id": "RPLoF_VJMOfI"
   },
   "outputs": [],
   "source": [
    "def update(x,y,lr):\n",
    "    wd = 1e-5\n",
    "    y_hat = model(x)\n",
    "    # weight decay\n",
    "    w2 = 0.\n",
    "    for p in model.parameters(): w2 += (p**2).sum()\n",
    "    # add to regular loss\n",
    "    loss = loss_func(y_hat, y) + w2*wd\n",
    "    loss.backward()\n",
    "    with torch.no_grad():\n",
    "        for p in model.parameters():\n",
    "            p.sub_(lr * p.grad)\n",
    "            p.grad.zero_()\n",
    "    return loss.item()"
   ]
  },
  {
   "cell_type": "code",
   "execution_count": 0,
   "metadata": {
    "colab": {},
    "colab_type": "code",
    "id": "oWesDNFxMOli"
   },
   "outputs": [],
   "source": [
    "losses = [update(x,y,lr) for x,y in data.train_dl]"
   ]
  },
  {
   "cell_type": "code",
   "execution_count": 20,
   "metadata": {
    "colab": {
     "base_uri": "https://localhost:8080/",
     "height": 265
    },
    "colab_type": "code",
    "id": "VmoasfOEMOso",
    "outputId": "df20371b-f4c5-4aac-d6b6-f371b5cb9e80"
   },
   "outputs": [
    {
     "data": {
      "image/png": "[encoded data removed]",
      "text/plain": [
       "<Figure size 432x288 with 1 Axes>"
      ]
     },
     "metadata": {
      "needs_background": "light",
      "tags": []
     },
     "output_type": "display_data"
    }
   ],
   "source": [
    "plt.plot(losses);"
   ]
  },
  {
   "cell_type": "code",
   "execution_count": 0,
   "metadata": {
    "colab": {},
    "colab_type": "code",
    "id": "XoJmAriIMZ_q"
   },
   "outputs": [],
   "source": [
    "\n",
    "class Mnist_NN(nn.Module):\n",
    "    def __init__(self):\n",
    "        super().__init__()\n",
    "        self.lin1 = nn.Linear(784, 50, bias=True)\n",
    "        self.lin2 = nn.Linear(50, 10, bias=True)\n",
    "\n",
    "    def forward(self, xb):\n",
    "        x = self.lin1(xb)\n",
    "        x = F.relu(x)\n",
    "        return self.lin2(x)"
   ]
  },
  {
   "cell_type": "markdown",
   "metadata": {
    "colab_type": "text",
    "id": "zl6MZhoOvlKi"
   },
   "source": [
    "* forward 함수의 진행\n",
    "역할은 첫 번째 선형 층을 이루고, ReLu를 계산한 후 두 번째 층을 이룬다. nn.Liner을 사용하지 않고 메트릭스를 다룰수 있다. 그리고 다시 .cuda를 통해 loss를 계산한다.\n"
   ]
  },
  {
   "cell_type": "code",
   "execution_count": 0,
   "metadata": {
    "colab": {},
    "colab_type": "code",
    "id": "Ops9HdpVMaHH"
   },
   "outputs": [],
   "source": [
    "model = Mnist_NN().cuda()"
   ]
  },
  {
   "cell_type": "code",
   "execution_count": 0,
   "metadata": {
    "colab": {},
    "colab_type": "code",
    "id": "t6wLZQGAMaPd"
   },
   "outputs": [],
   "source": [
    "losses = [update(x,y,lr) for x,y in data.train_dl]"
   ]
  },
  {
   "cell_type": "code",
   "execution_count": 24,
   "metadata": {
    "colab": {
     "base_uri": "https://localhost:8080/",
     "height": 265
    },
    "colab_type": "code",
    "id": "VObYxafcMgIP",
    "outputId": "d789c340-cb4e-4a36-f883-0977986d4b65"
   },
   "outputs": [
    {
     "data": {
      "image/png": "[encoded data removed]",
      "text/plain": [
       "<Figure size 432x288 with 1 Axes>"
      ]
     },
     "metadata": {
      "needs_background": "light",
      "tags": []
     },
     "output_type": "display_data"
    }
   ],
   "source": [
    "plt.plot(losses);"
   ]
  },
  {
   "cell_type": "code",
   "execution_count": 0,
   "metadata": {
    "colab": {},
    "colab_type": "code",
    "id": "goR0pQNYMgOq"
   },
   "outputs": [],
   "source": [
    "model = Mnist_NN().cuda()"
   ]
  },
  {
   "cell_type": "code",
   "execution_count": 0,
   "metadata": {
    "colab": {},
    "colab_type": "code",
    "id": "gjzFz-L9MgVK"
   },
   "outputs": [],
   "source": [
    "def update(x,y,lr):\n",
    "    opt = optim.Adam(model.parameters(), lr)\n",
    "    y_hat = model(x)\n",
    "    loss = loss_func(y_hat, y)\n",
    "    loss.backward()\n",
    "    opt.step()\n",
    "    opt.zero_grad()\n",
    "    return loss.item()"
   ]
  },
  {
   "cell_type": "markdown",
   "metadata": {
    "colab_type": "text",
    "id": "eHlcn8sGxhaN"
   },
   "source": [
    "* PyTorch에게 매개변수를 취해서 SGD를 사용하여 최적화하는과정이다.\n",
    "opt.step()은 p-+lr*p.gard와 동일하다. 하지만 이것은 SGD를 아담으로 대체할 수 이고 가중치 감소와 같은것들을 추가할 수 있다, \n"
   ]
  },
  {
   "cell_type": "code",
   "execution_count": 0,
   "metadata": {
    "colab": {},
    "colab_type": "code",
    "id": "5tFCLyL8Mga1"
   },
   "outputs": [],
   "source": [
    "losses = [update(x,y,1e-3) for x,y in data.train_dl]"
   ]
  },
  {
   "cell_type": "code",
   "execution_count": 28,
   "metadata": {
    "colab": {
     "base_uri": "https://localhost:8080/",
     "height": 265
    },
    "colab_type": "code",
    "id": "3DsPC5myMgeO",
    "outputId": "719bae31-95f2-4768-921f-b1beeb1f8b3d"
   },
   "outputs": [
    {
     "data": {
      "image/png": "[encoded data removed]",
      "text/plain": [
       "<Figure size 432x288 with 1 Axes>"
      ]
     },
     "metadata": {
      "needs_background": "light",
      "tags": []
     },
     "output_type": "display_data"
    }
   ],
   "source": [
    "plt.plot(losses);"
   ]
  },
  {
   "cell_type": "code",
   "execution_count": 0,
   "metadata": {
    "colab": {},
    "colab_type": "code",
    "id": "rF6816OKMqEo"
   },
   "outputs": [],
   "source": [
    "learn = Learner(data, Mnist_NN(), loss_func=loss_func, metrics=accuracy)"
   ]
  },
  {
   "cell_type": "code",
   "execution_count": 30,
   "metadata": {
    "colab": {
     "base_uri": "https://localhost:8080/",
     "height": 36
    },
    "colab_type": "code",
    "id": "46MO25EHMqH8",
    "outputId": "89d14494-4103-44b3-e498-7000282a7ec9"
   },
   "outputs": [
    {
     "name": "stderr",
     "output_type": "stream",
     "text": [
      "ERROR:root:No traceback has been produced, nothing to debug.\n"
     ]
    }
   ],
   "source": [
    "%debug"
   ]
  },
  {
   "cell_type": "code",
   "execution_count": 31,
   "metadata": {
    "colab": {
     "base_uri": "https://localhost:8080/",
     "height": 377
    },
    "colab_type": "code",
    "id": "JU5TVg84MqLP",
    "outputId": "5f876c74-a752-491a-8712-8f7269837513"
   },
   "outputs": [
    {
     "data": {
      "text/html": [
       "\n",
       "    <div>\n",
       "        <style>\n",
       "            /* Turns off some styling */\n",
       "            progress {\n",
       "                /* gets rid of default border in Firefox and Opera. */\n",
       "                border: none;\n",
       "                /* Needs to be in here for Safari polyfill so background images work as expected. */\n",
       "                background-size: auto;\n",
       "            }\n",
       "            .progress-bar-interrupted, .progress-bar-interrupted::-webkit-progress-bar {\n",
       "                background: #F44336;\n",
       "            }\n",
       "        </style>\n",
       "      <progress value='0' class='' max='1' style='width:300px; height:20px; vertical-align: middle;'></progress>\n",
       "      0.00% [0/1 00:00<00:00]\n",
       "    </div>\n",
       "    \n",
       "<table border=\"1\" class=\"dataframe\">\n",
       "  <thead>\n",
       "    <tr style=\"text-align: left;\">\n",
       "      <th>epoch</th>\n",
       "      <th>train_loss</th>\n",
       "      <th>valid_loss</th>\n",
       "      <th>accuracy</th>\n",
       "      <th>time</th>\n",
       "    </tr>\n",
       "  </thead>\n",
       "  <tbody>\n",
       "  </tbody>\n",
       "</table><p>\n",
       "\n",
       "    <div>\n",
       "        <style>\n",
       "            /* Turns off some styling */\n",
       "            progress {\n",
       "                /* gets rid of default border in Firefox and Opera. */\n",
       "                border: none;\n",
       "                /* Needs to be in here for Safari polyfill so background images work as expected. */\n",
       "                background-size: auto;\n",
       "            }\n",
       "            .progress-bar-interrupted, .progress-bar-interrupted::-webkit-progress-bar {\n",
       "                background: #F44336;\n",
       "            }\n",
       "        </style>\n",
       "      <progress value='64' class='' max='781' style='width:300px; height:20px; vertical-align: middle;'></progress>\n",
       "      8.19% [64/781 00:00<00:03 2.0720]\n",
       "    </div>\n",
       "    "
      ],
      "text/plain": [
       "<IPython.core.display.HTML object>"
      ]
     },
     "metadata": {
      "tags": []
     },
     "output_type": "display_data"
    },
    {
     "name": "stdout",
     "output_type": "stream",
     "text": [
      "LR Finder is complete, type {learner_name}.recorder.plot() to see the graph.\n"
     ]
    },
    {
     "data": {
      "image/png": "[encoded data removed]",
      "text/plain": [
       "<Figure size 432x288 with 1 Axes>"
      ]
     },
     "metadata": {
      "needs_background": "light",
      "tags": []
     },
     "output_type": "display_data"
    }
   ],
   "source": [
    "learn.lr_find()\n",
    "learn.recorder.plot()"
   ]
  },
  {
   "cell_type": "code",
   "execution_count": 32,
   "metadata": {
    "colab": {
     "base_uri": "https://localhost:8080/",
     "height": 79
    },
    "colab_type": "code",
    "id": "S7_7me3DMqSK",
    "outputId": "19b49360-4d0f-40fc-e465-7ee5a1752539"
   },
   "outputs": [
    {
     "data": {
      "text/html": [
       "<table border=\"1\" class=\"dataframe\">\n",
       "  <thead>\n",
       "    <tr style=\"text-align: left;\">\n",
       "      <th>epoch</th>\n",
       "      <th>train_loss</th>\n",
       "      <th>valid_loss</th>\n",
       "      <th>accuracy</th>\n",
       "      <th>time</th>\n",
       "    </tr>\n",
       "  </thead>\n",
       "  <tbody>\n",
       "    <tr>\n",
       "      <td>0</td>\n",
       "      <td>0.143748</td>\n",
       "      <td>0.128824</td>\n",
       "      <td>0.963700</td>\n",
       "      <td>00:03</td>\n",
       "    </tr>\n",
       "  </tbody>\n",
       "</table>"
      ],
      "text/plain": [
       "<IPython.core.display.HTML object>"
      ]
     },
     "metadata": {
      "tags": []
     },
     "output_type": "display_data"
    }
   ],
   "source": [
    "learn.fit_one_cycle(1, 1e-2)"
   ]
  },
  {
   "cell_type": "code",
   "execution_count": 33,
   "metadata": {
    "colab": {
     "base_uri": "https://localhost:8080/",
     "height": 279
    },
    "colab_type": "code",
    "id": "wjlEQfIVMqUr",
    "outputId": "666741fe-e28d-40b0-a2ce-c5da1f6b3a9d"
   },
   "outputs": [
    {
     "data": {
      "image/png": "[encoded data removed]",
      "text/plain": [
       "<Figure size 864x288 with 2 Axes>"
      ]
     },
     "metadata": {
      "needs_background": "light",
      "tags": []
     },
     "output_type": "display_data"
    }
   ],
   "source": [
    "learn.recorder.plot_lr(show_moms=True)"
   ]
  },
  {
   "cell_type": "code",
   "execution_count": 34,
   "metadata": {
    "colab": {
     "base_uri": "https://localhost:8080/",
     "height": 279
    },
    "colab_type": "code",
    "id": "KEstEPxlMx0M",
    "outputId": "14760770-f1fe-4d3a-868c-12f61de97cdc"
   },
   "outputs": [
    {
     "data": {
      "image/png": "[encoded data removed]",
      "text/plain": [
       "<Figure size 432x288 with 1 Axes>"
      ]
     },
     "metadata": {
      "needs_background": "light",
      "tags": []
     },
     "output_type": "display_data"
    }
   ],
   "source": [
    "learn.recorder.plot_losses()"
   ]
  },
  {
   "cell_type": "code",
   "execution_count": 0,
   "metadata": {
    "colab": {},
    "colab_type": "code",
    "id": "r5HQ3qovMx5s"
   },
   "outputs": [],
   "source": []
  },
  {
   "cell_type": "markdown",
   "metadata": {
    "colab_type": "text",
    "id": "7vAuNvf09y-2"
   },
   "source": [
    "# 실행파일 목록\n",
    "https://drive.google.com/open?id=1Ts8v8IIWvh5kM850iccTHNS6xJY5R9zL"
   ]
  },
  {
   "cell_type": "code",
   "execution_count": 0,
   "metadata": {
    "colab": {},
    "colab_type": "code",
    "id": "SVw5f9sDMx-q"
   },
   "outputs": [],
   "source": []
  }
 ],
 "metadata": {
  "accelerator": "GPU",
  "colab": {
   "authorship_tag": "ABX9TyNPVq+8KGKsxlNPXnVDJxnN",
   "collapsed_sections": [],
   "include_colab_link": true,
   "name": "exercise_Lesson5.ipynb",
   "provenance": []
  },
  "kernelspec": {
   "display_name": "Python 3",
   "language": "python",
   "name": "python3"
  },
  "language_info": {
   "codemirror_mode": {
    "name": "ipython",
    "version": 3
   },
   "file_extension": ".py",
   "mimetype": "text/x-python",
   "name": "python",
   "nbconvert_exporter": "python",
   "pygments_lexer": "ipython3",
   "version": "3.7.6"
  }
 },
 "nbformat": 4,
 "nbformat_minor": 1
}
