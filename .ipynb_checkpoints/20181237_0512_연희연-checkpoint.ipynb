{
 "cells": [
  {
   "cell_type": "markdown",
   "metadata": {
    "colab_type": "text",
    "id": "view-in-github"
   },
   "source": [
    "<a href=\"https://colab.research.google.com/github/yeonheuiyeon/Machine-Learning-Practice/blob/master/20181237_0512_%EC%97%B0%ED%9D%AC%EC%97%B0.ipynb\" target=\"_parent\"><img src=\"https://colab.research.google.com/assets/colab-badge.svg\" alt=\"Open In Colab\"/></a>"
   ]
  },
  {
   "cell_type": "code",
   "execution_count": 1,
   "metadata": {
    "colab": {
     "base_uri": "https://localhost:8080/",
     "height": 92
    },
    "colab_type": "code",
    "id": "CUwYQVGTNTC_",
    "outputId": "ec46a000-3436-4499-ab65-82e2cc874d5e"
   },
   "outputs": [
    {
     "name": "stdout",
     "output_type": "stream",
     "text": [
      "Collecting colab_ssh\n",
      "  Downloading https://files.pythonhosted.org/packages/41/bf/1572a429455398f740954f8cbb99a59527d714d350b32022e3882c081f61/colab_ssh-0.2.51-py3-none-any.whl\n",
      "Installing collected packages: colab-ssh\n",
      "Successfully installed colab-ssh-0.2.51\n"
     ]
    }
   ],
   "source": [
    "!pip install colab_ssh --upgrade --user\n",
    "import sys\n",
    "sys.path.append('/root/.local/lib/python3.6/site-packages')\n"
   ]
  },
  {
   "cell_type": "code",
   "execution_count": 2,
   "metadata": {
    "colab": {
     "base_uri": "https://localhost:8080/",
     "height": 185
    },
    "colab_type": "code",
    "id": "w2svvVbFNUrP",
    "outputId": "d01f0224-b46a-4a5c-fc86-05248e343807"
   },
   "outputs": [
    {
     "name": "stdout",
     "output_type": "stream",
     "text": [
      "Successfully running 0.tcp.ngrok.io:11542\n",
      "[Optional] You can also connect with VSCode SSH Remote extension using this configuration:\n",
      "\n",
      "      Host google_colab_ssh\n",
      "          HostName 0.ssh.ngrok.io\n",
      "          User root\n",
      "          Port 11542\n",
      "      \n"
     ]
    },
    {
     "data": {
      "text/plain": [
       "[b'tcp://0.tcp.ngrok.io:11542\\n']"
      ]
     },
     "execution_count": 2,
     "metadata": {
      "tags": []
     },
     "output_type": "execute_result"
    }
   ],
   "source": [
    "\n",
    "from colab_ssh import launch_ssh, init_git\n",
    "password = 'dusgmldus1!'\n",
    "ngrokToken = '1bnlJEXXtY5PbmOmVdCeTE72Ww0_3JfXFu7htsGP68mibBNX9'\n",
    "launch_ssh(ngrokToken,password)"
   ]
  },
  {
   "cell_type": "markdown",
   "metadata": {
    "colab_type": "text",
    "id": "iqr31z91jddm"
   },
   "source": [
    "실행사진 링크 : https://drive.google.com/open?id=1wAqumTgc5Wc723X9LDn15rrQkkOdjjKR\n",
    "\n",
    "ugrok의 토큰을 이용하여 원격 서버를 만들고 파이참과 연결한후 가상환경 생성후 원격 인터프리터를 만들었습니다."
   ]
  },
  {
   "cell_type": "code",
   "execution_count": 0,
   "metadata": {
    "colab": {},
    "colab_type": "code",
    "id": "ilgUQlmJk_Bb"
   },
   "outputs": [],
   "source": []
  }
 ],
 "metadata": {
  "colab": {
   "authorship_tag": "ABX9TyMQ5CuEFDFqFq5SoKvDrKWR",
   "collapsed_sections": [],
   "include_colab_link": true,
   "name": "20181237_0512_연희연.ipynb",
   "provenance": []
  },
  "kernelspec": {
   "display_name": "Python 3",
   "language": "python",
   "name": "python3"
  },
  "language_info": {
   "codemirror_mode": {
    "name": "ipython",
    "version": 3
   },
   "file_extension": ".py",
   "mimetype": "text/x-python",
   "name": "python",
   "nbconvert_exporter": "python",
   "pygments_lexer": "ipython3",
   "version": "3.7.6"
  }
 },
 "nbformat": 4,
 "nbformat_minor": 1
}
