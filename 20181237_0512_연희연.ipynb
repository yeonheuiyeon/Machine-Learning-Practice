{
  "nbformat": 4,
  "nbformat_minor": 0,
  "metadata": {
    "colab": {
      "name": "20181237_0512_연희연.ipynb",
      "provenance": [],
      "collapsed_sections": [],
      "authorship_tag": "ABX9TyMQ5CuEFDFqFq5SoKvDrKWR",
      "include_colab_link": true
    },
    "kernelspec": {
      "name": "python3",
      "display_name": "Python 3"
    }
  },
  "cells": [
    {
      "cell_type": "markdown",
      "metadata": {
        "id": "view-in-github",
        "colab_type": "text"
      },
      "source": [
        "<a href=\"https://colab.research.google.com/github/yeonheuiyeon/Machine-Learning-Practice/blob/master/20181237_0512_%EC%97%B0%ED%9D%AC%EC%97%B0.ipynb\" target=\"_parent\"><img src=\"https://colab.research.google.com/assets/colab-badge.svg\" alt=\"Open In Colab\"/></a>"
      ]
    },
    {
      "cell_type": "code",
      "metadata": {
        "id": "CUwYQVGTNTC_",
        "colab_type": "code",
        "colab": {
          "base_uri": "https://localhost:8080/",
          "height": 92
        },
        "outputId": "ec46a000-3436-4499-ab65-82e2cc874d5e"
      },
      "source": [
        "!pip install colab_ssh --upgrade --user\n",
        "import sys\n",
        "sys.path.append('/root/.local/lib/python3.6/site-packages')\n"
      ],
      "execution_count": 1,
      "outputs": [
        {
          "output_type": "stream",
          "text": [
            "Collecting colab_ssh\n",
            "  Downloading https://files.pythonhosted.org/packages/41/bf/1572a429455398f740954f8cbb99a59527d714d350b32022e3882c081f61/colab_ssh-0.2.51-py3-none-any.whl\n",
            "Installing collected packages: colab-ssh\n",
            "Successfully installed colab-ssh-0.2.51\n"
          ],
          "name": "stdout"
        }
      ]
    },
    {
      "cell_type": "code",
      "metadata": {
        "id": "w2svvVbFNUrP",
        "colab_type": "code",
        "colab": {
          "base_uri": "https://localhost:8080/",
          "height": 185
        },
        "outputId": "d01f0224-b46a-4a5c-fc86-05248e343807"
      },
      "source": [
        "\n",
        "from colab_ssh import launch_ssh, init_git\n",
        "password = 'dusgmldus1!'\n",
        "ngrokToken = '1bnlJEXXtY5PbmOmVdCeTE72Ww0_3JfXFu7htsGP68mibBNX9'\n",
        "launch_ssh(ngrokToken,password)"
      ],
      "execution_count": 2,
      "outputs": [
        {
          "output_type": "stream",
          "text": [
            "Successfully running 0.tcp.ngrok.io:11542\n",
            "[Optional] You can also connect with VSCode SSH Remote extension using this configuration:\n",
            "\n",
            "      Host google_colab_ssh\n",
            "          HostName 0.ssh.ngrok.io\n",
            "          User root\n",
            "          Port 11542\n",
            "      \n"
          ],
          "name": "stdout"
        },
        {
          "output_type": "execute_result",
          "data": {
            "text/plain": [
              "[b'tcp://0.tcp.ngrok.io:11542\\n']"
            ]
          },
          "metadata": {
            "tags": []
          },
          "execution_count": 2
        }
      ]
    },
    {
      "cell_type": "markdown",
      "metadata": {
        "id": "iqr31z91jddm",
        "colab_type": "text"
      },
      "source": [
        "실행사진 링크 : https://drive.google.com/open?id=1wAqumTgc5Wc723X9LDn15rrQkkOdjjKR\n",
        "\n",
        "ugrok의 토큰을 이용하여 원격 서버를 만들고 파이참과 연결한후 가상환경 생성후 원격 인터프리터를 만들었습니다."
      ]
    },
    {
      "cell_type": "code",
      "metadata": {
        "id": "ilgUQlmJk_Bb",
        "colab_type": "code",
        "colab": {}
      },
      "source": [
        ""
      ],
      "execution_count": 0,
      "outputs": []
    }
  ]
}